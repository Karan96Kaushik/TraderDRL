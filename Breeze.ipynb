{
 "cells": [
  {
   "cell_type": "code",
   "execution_count": 1,
   "id": "48034760-19a4-4e11-a7fb-260360dceadb",
   "metadata": {
    "scrolled": true
   },
   "outputs": [
    {
     "name": "stdout",
     "output_type": "stream",
     "text": [
      "Collecting breeze-connect\n",
      "  Downloading breeze_connect-1.0.48.tar.gz (29 kB)\n",
      "  Preparing metadata (setup.py) ... \u001b[?25ldone\n",
      "\u001b[?25hCollecting python-socketio[client] (from breeze-connect)\n",
      "  Downloading python_socketio-5.11.1-py3-none-any.whl.metadata (3.2 kB)\n",
      "Requirement already satisfied: requests in /Users/karankaushik/miniconda/envs/mlEnv/lib/python3.10/site-packages (from breeze-connect) (2.31.0)\n",
      "Requirement already satisfied: pandas in /Users/karankaushik/miniconda/envs/mlEnv/lib/python3.10/site-packages (from breeze-connect) (2.2.1)\n",
      "Requirement already satisfied: numpy<2,>=1.22.4 in /Users/karankaushik/miniconda/envs/mlEnv/lib/python3.10/site-packages (from pandas->breeze-connect) (1.26.4)\n",
      "Requirement already satisfied: python-dateutil>=2.8.2 in /Users/karankaushik/miniconda/envs/mlEnv/lib/python3.10/site-packages (from pandas->breeze-connect) (2.9.0)\n",
      "Requirement already satisfied: pytz>=2020.1 in /Users/karankaushik/miniconda/envs/mlEnv/lib/python3.10/site-packages (from pandas->breeze-connect) (2024.1)\n",
      "Requirement already satisfied: tzdata>=2022.7 in /Users/karankaushik/miniconda/envs/mlEnv/lib/python3.10/site-packages (from pandas->breeze-connect) (2024.1)\n",
      "Collecting bidict>=0.21.0 (from python-socketio[client]->breeze-connect)\n",
      "  Downloading bidict-0.23.1-py3-none-any.whl.metadata (8.7 kB)\n",
      "Collecting python-engineio>=4.8.0 (from python-socketio[client]->breeze-connect)\n",
      "  Downloading python_engineio-4.9.0-py3-none-any.whl.metadata (2.2 kB)\n",
      "Requirement already satisfied: websocket-client>=0.54.0 in /Users/karankaushik/miniconda/envs/mlEnv/lib/python3.10/site-packages (from python-socketio[client]->breeze-connect) (1.7.0)\n",
      "Requirement already satisfied: charset-normalizer<4,>=2 in /Users/karankaushik/miniconda/envs/mlEnv/lib/python3.10/site-packages (from requests->breeze-connect) (3.3.2)\n",
      "Requirement already satisfied: idna<4,>=2.5 in /Users/karankaushik/miniconda/envs/mlEnv/lib/python3.10/site-packages (from requests->breeze-connect) (3.6)\n",
      "Requirement already satisfied: urllib3<3,>=1.21.1 in /Users/karankaushik/miniconda/envs/mlEnv/lib/python3.10/site-packages (from requests->breeze-connect) (2.2.1)\n",
      "Requirement already satisfied: certifi>=2017.4.17 in /Users/karankaushik/miniconda/envs/mlEnv/lib/python3.10/site-packages (from requests->breeze-connect) (2024.2.2)\n",
      "Requirement already satisfied: six>=1.5 in /Users/karankaushik/miniconda/envs/mlEnv/lib/python3.10/site-packages (from python-dateutil>=2.8.2->pandas->breeze-connect) (1.16.0)\n",
      "Collecting simple-websocket>=0.10.0 (from python-engineio>=4.8.0->python-socketio[client]->breeze-connect)\n",
      "  Downloading simple_websocket-1.0.0-py3-none-any.whl.metadata (1.3 kB)\n",
      "Collecting wsproto (from simple-websocket>=0.10.0->python-engineio>=4.8.0->python-socketio[client]->breeze-connect)\n",
      "  Downloading wsproto-1.2.0-py3-none-any.whl.metadata (5.6 kB)\n",
      "Requirement already satisfied: h11<1,>=0.9.0 in /Users/karankaushik/miniconda/envs/mlEnv/lib/python3.10/site-packages (from wsproto->simple-websocket>=0.10.0->python-engineio>=4.8.0->python-socketio[client]->breeze-connect) (0.14.0)\n",
      "Downloading bidict-0.23.1-py3-none-any.whl (32 kB)\n",
      "Downloading python_engineio-4.9.0-py3-none-any.whl (57 kB)\n",
      "\u001b[2K   \u001b[38;2;114;156;31m━━━━━━━━━━━━━━━━━━━━━━━━━━━━━━━━━━━━━━━━\u001b[0m \u001b[32m57.5/57.5 kB\u001b[0m \u001b[31m7.0 MB/s\u001b[0m eta \u001b[36m0:00:00\u001b[0m\n",
      "\u001b[?25hDownloading python_socketio-5.11.1-py3-none-any.whl (75 kB)\n",
      "\u001b[2K   \u001b[38;2;114;156;31m━━━━━━━━━━━━━━━━━━━━━━━━━━━━━━━━━━━━━━━━\u001b[0m \u001b[32m75.5/75.5 kB\u001b[0m \u001b[31m9.6 MB/s\u001b[0m eta \u001b[36m0:00:00\u001b[0m\n",
      "\u001b[?25hDownloading simple_websocket-1.0.0-py3-none-any.whl (13 kB)\n",
      "Downloading wsproto-1.2.0-py3-none-any.whl (24 kB)\n",
      "Building wheels for collected packages: breeze-connect\n",
      "  Building wheel for breeze-connect (setup.py) ... \u001b[?25ldone\n",
      "\u001b[?25h  Created wheel for breeze-connect: filename=breeze_connect-1.0.48-py3-none-any.whl size=24481 sha256=e7760755c9de7fd3a895ff74e8b1dbd4996415a46cd54dfe7398a5fc7330a5ea\n",
      "  Stored in directory: /Users/karankaushik/Library/Caches/pip/wheels/b3/09/3b/53d8b7df9df83ab1fc8bb943a46b62c4e3c8c5f910f078c910\n",
      "Successfully built breeze-connect\n",
      "Installing collected packages: wsproto, bidict, simple-websocket, python-engineio, python-socketio, breeze-connect\n",
      "Successfully installed bidict-0.23.1 breeze-connect-1.0.48 python-engineio-4.9.0 python-socketio-5.11.1 simple-websocket-1.0.0 wsproto-1.2.0\n"
     ]
    }
   ],
   "source": [
    "!pip install breeze-connect"
   ]
  },
  {
   "cell_type": "code",
   "execution_count": 5,
   "id": "ccc3c62e-02e7-4d61-b878-7fdfc41558ff",
   "metadata": {},
   "outputs": [
    {
     "name": "stdout",
     "output_type": "stream",
     "text": [
      "environ({'TERM_SESSION_ID': 'w0t3p0:83360912-172A-4C66-9CD1-7B113309854C', 'SSH_AUTH_SOCK': '/private/tmp/com.apple.launchd.W2BMZnI9pk/Listeners', 'LC_TERMINAL_VERSION': '3.4.23', 'COLORFGBG': '15;0', 'ITERM_PROFILE': 'Default', 'XPC_FLAGS': '0x0', 'PWD': '/Users/karankaushik/Documents/gitworkspace/DRL', 'SHELL': '/bin/zsh', '__CFBundleIdentifier': 'com.googlecode.iterm2', 'LC_CTYPE': 'UTF-8', 'TERM_PROGRAM_VERSION': '3.4.23', 'TERM_PROGRAM': 'iTerm.app', 'PATH': '/Users/karankaushik/miniconda/envs/mlEnv/bin:/Users/karankaushik/miniconda/condabin:/Users/karankaushik/miniconda/bin:/Applications/Visual Studio Code.app/Contents/Resources/app/bin:/Applications/Sublime Text.app/Contents/SharedSupport/bin:/opt/homebrew/bin:/opt/homebrew/sbin:/usr/local/bin:/System/Cryptexes/App/usr/bin:/usr/bin:/bin:/usr/sbin:/sbin:/var/run/com.apple.security.cryptexd/codex.system/bootstrap/usr/local/bin:/var/run/com.apple.security.cryptexd/codex.system/bootstrap/usr/bin:/var/run/com.apple.security.cryptexd/codex.system/bootstrap/usr/appleinternal/bin:/Library/Apple/usr/bin:/Users/karankaushik/Library/Android/sdk/tools:/Users/karankaushik/Library/Android/sdk/tools/bin:/Users/karankaushik/Library/Android/sdk/platform-tools', 'LC_TERMINAL': 'iTerm2', 'COLORTERM': 'truecolor', 'COMMAND_MODE': 'unix2003', 'TERM': 'xterm-color', 'HOME': '/Users/karankaushik', 'TMPDIR': '/var/folders/wz/_q29n61x6t1_v_r_lj50z6f40000gn/T/', 'USER': 'karankaushik', 'XPC_SERVICE_NAME': '0', 'LOGNAME': 'karankaushik', 'ITERM_SESSION_ID': 'w0t3p0:83360912-172A-4C66-9CD1-7B113309854C', '__CF_USER_TEXT_ENCODING': '0x1F5:0x0:0x0', 'SHLVL': '1', 'OLDPWD': '/Users/karankaushik/Documents/gitworkspace', 'HOMEBREW_PREFIX': '/opt/homebrew', 'HOMEBREW_CELLAR': '/opt/homebrew/Cellar', 'HOMEBREW_REPOSITORY': '/opt/homebrew', 'MANPATH': '/opt/homebrew/share/man::', 'INFOPATH': '/opt/homebrew/share/info:', 'P9K_TTY': 'old', '_P9K_TTY': '/dev/ttys003', 'ZSH': '/Users/karankaushik/.oh-my-zsh', 'PAGER': 'cat', 'LESS': '-R', 'LSCOLORS': 'Gxfxcxdxbxegedabagacad', 'LS_COLORS': 'di=1;36:ln=35:so=32:pi=33:ex=31:bd=34;46:cd=34;43:su=30;41:sg=30;46:tw=30;42:ow=30;43', 'P9K_SSH': '0', '_P9K_SSH_TTY': '/dev/ttys003', 'ANDROID_HOME': '/Users/karankaushik/Library/Android/sdk', 'CONDA_EXE': '/Users/karankaushik/miniconda/bin/conda', '_CE_M': '', '_CE_CONDA': '', 'CONDA_PYTHON_EXE': '/Users/karankaushik/miniconda/bin/python', 'CONDA_SHLVL': '2', 'CONDA_PREFIX': '/Users/karankaushik/miniconda/envs/mlEnv', 'CONDA_DEFAULT_ENV': 'mlEnv', 'CONDA_PROMPT_MODIFIER': '(mlEnv) ', 'CONDA_PREFIX_1': '/Users/karankaushik/miniconda', '_': '/Users/karankaushik/miniconda/envs/mlEnv/bin/jupyter', 'JPY_SESSION_NAME': '/Users/karankaushik/Documents/gitworkspace/DRL/Untitled.ipynb', 'JPY_PARENT_PID': '2335', 'PYDEVD_USE_FRAME_EVAL': 'NO', 'CLICOLOR': '1', 'FORCE_COLOR': '1', 'CLICOLOR_FORCE': '1', 'GIT_PAGER': 'cat', 'MPLBACKEND': 'module://matplotlib_inline.backend_inline'})\n",
      "None\n"
     ]
    },
    {
     "ename": "TypeError",
     "evalue": "quote_from_bytes() expected bytes",
     "output_type": "error",
     "traceback": [
      "\u001b[0;31m---------------------------------------------------------------------------\u001b[0m",
      "\u001b[0;31mTypeError\u001b[0m                                 Traceback (most recent call last)",
      "Cell \u001b[0;32mIn[5], line 12\u001b[0m\n\u001b[1;32m     10\u001b[0m \u001b[38;5;28mprint\u001b[39m(os\u001b[38;5;241m.\u001b[39menviron)\n\u001b[1;32m     11\u001b[0m \u001b[38;5;28mprint\u001b[39m(os\u001b[38;5;241m.\u001b[39menviron\u001b[38;5;241m.\u001b[39mget(\u001b[38;5;124m\"\u001b[39m\u001b[38;5;124mICICDIR_SECRET\u001b[39m\u001b[38;5;124m\"\u001b[39m))\n\u001b[0;32m---> 12\u001b[0m \u001b[38;5;28mprint\u001b[39m(\u001b[38;5;124m\"\u001b[39m\u001b[38;5;124mhttps://api.icicidirect.com/apiuser/login?api_key=\u001b[39m\u001b[38;5;124m\"\u001b[39m\u001b[38;5;241m+\u001b[39m\u001b[43murllib\u001b[49m\u001b[38;5;241;43m.\u001b[39;49m\u001b[43mparse\u001b[49m\u001b[38;5;241;43m.\u001b[39;49m\u001b[43mquote_plus\u001b[49m\u001b[43m(\u001b[49m\u001b[43mos\u001b[49m\u001b[38;5;241;43m.\u001b[39;49m\u001b[43menviron\u001b[49m\u001b[38;5;241;43m.\u001b[39;49m\u001b[43mget\u001b[49m\u001b[43m(\u001b[49m\u001b[38;5;124;43m\"\u001b[39;49m\u001b[38;5;124;43mICICDIR_APIKEY\u001b[39;49m\u001b[38;5;124;43m\"\u001b[39;49m\u001b[43m)\u001b[49m\u001b[43m)\u001b[49m)\n\u001b[1;32m     13\u001b[0m \u001b[38;5;66;03m# Generate Session\u001b[39;00m\n\u001b[1;32m     14\u001b[0m breeze\u001b[38;5;241m.\u001b[39mgenerate_session(api_secret\u001b[38;5;241m=\u001b[39mos\u001b[38;5;241m.\u001b[39menviron\u001b[38;5;241m.\u001b[39mget(\u001b[38;5;124m\"\u001b[39m\u001b[38;5;124mICICDIR_SECRET\u001b[39m\u001b[38;5;124m\"\u001b[39m),\n\u001b[1;32m     15\u001b[0m                         session_token\u001b[38;5;241m=\u001b[39m\u001b[38;5;124m\"\u001b[39m\u001b[38;5;124myour_api_session\u001b[39m\u001b[38;5;124m\"\u001b[39m)\n",
      "File \u001b[0;32m~/miniconda/envs/mlEnv/lib/python3.10/urllib/parse.py:897\u001b[0m, in \u001b[0;36mquote_plus\u001b[0;34m(string, safe, encoding, errors)\u001b[0m\n\u001b[1;32m    895\u001b[0m \u001b[38;5;28;01melse\u001b[39;00m:\n\u001b[1;32m    896\u001b[0m     space \u001b[38;5;241m=\u001b[39m \u001b[38;5;124mb\u001b[39m\u001b[38;5;124m'\u001b[39m\u001b[38;5;124m \u001b[39m\u001b[38;5;124m'\u001b[39m\n\u001b[0;32m--> 897\u001b[0m string \u001b[38;5;241m=\u001b[39m \u001b[43mquote\u001b[49m\u001b[43m(\u001b[49m\u001b[43mstring\u001b[49m\u001b[43m,\u001b[49m\u001b[43m \u001b[49m\u001b[43msafe\u001b[49m\u001b[43m \u001b[49m\u001b[38;5;241;43m+\u001b[39;49m\u001b[43m \u001b[49m\u001b[43mspace\u001b[49m\u001b[43m,\u001b[49m\u001b[43m \u001b[49m\u001b[43mencoding\u001b[49m\u001b[43m,\u001b[49m\u001b[43m \u001b[49m\u001b[43merrors\u001b[49m\u001b[43m)\u001b[49m\n\u001b[1;32m    898\u001b[0m \u001b[38;5;28;01mreturn\u001b[39;00m string\u001b[38;5;241m.\u001b[39mreplace(\u001b[38;5;124m'\u001b[39m\u001b[38;5;124m \u001b[39m\u001b[38;5;124m'\u001b[39m, \u001b[38;5;124m'\u001b[39m\u001b[38;5;124m+\u001b[39m\u001b[38;5;124m'\u001b[39m)\n",
      "File \u001b[0;32m~/miniconda/envs/mlEnv/lib/python3.10/urllib/parse.py:881\u001b[0m, in \u001b[0;36mquote\u001b[0;34m(string, safe, encoding, errors)\u001b[0m\n\u001b[1;32m    879\u001b[0m     \u001b[38;5;28;01mif\u001b[39;00m errors \u001b[38;5;129;01mis\u001b[39;00m \u001b[38;5;129;01mnot\u001b[39;00m \u001b[38;5;28;01mNone\u001b[39;00m:\n\u001b[1;32m    880\u001b[0m         \u001b[38;5;28;01mraise\u001b[39;00m \u001b[38;5;167;01mTypeError\u001b[39;00m(\u001b[38;5;124m\"\u001b[39m\u001b[38;5;124mquote() doesn\u001b[39m\u001b[38;5;124m'\u001b[39m\u001b[38;5;124mt support \u001b[39m\u001b[38;5;124m'\u001b[39m\u001b[38;5;124merrors\u001b[39m\u001b[38;5;124m'\u001b[39m\u001b[38;5;124m for bytes\u001b[39m\u001b[38;5;124m\"\u001b[39m)\n\u001b[0;32m--> 881\u001b[0m \u001b[38;5;28;01mreturn\u001b[39;00m \u001b[43mquote_from_bytes\u001b[49m\u001b[43m(\u001b[49m\u001b[43mstring\u001b[49m\u001b[43m,\u001b[49m\u001b[43m \u001b[49m\u001b[43msafe\u001b[49m\u001b[43m)\u001b[49m\n",
      "File \u001b[0;32m~/miniconda/envs/mlEnv/lib/python3.10/urllib/parse.py:906\u001b[0m, in \u001b[0;36mquote_from_bytes\u001b[0;34m(bs, safe)\u001b[0m\n\u001b[1;32m    901\u001b[0m \u001b[38;5;250m\u001b[39m\u001b[38;5;124;03m\"\"\"Like quote(), but accepts a bytes object rather than a str, and does\u001b[39;00m\n\u001b[1;32m    902\u001b[0m \u001b[38;5;124;03mnot perform string-to-bytes encoding.  It always returns an ASCII string.\u001b[39;00m\n\u001b[1;32m    903\u001b[0m \u001b[38;5;124;03mquote_from_bytes(b'abc def\\x3f') -> 'abc%20def%3f'\u001b[39;00m\n\u001b[1;32m    904\u001b[0m \u001b[38;5;124;03m\"\"\"\u001b[39;00m\n\u001b[1;32m    905\u001b[0m \u001b[38;5;28;01mif\u001b[39;00m \u001b[38;5;129;01mnot\u001b[39;00m \u001b[38;5;28misinstance\u001b[39m(bs, (\u001b[38;5;28mbytes\u001b[39m, \u001b[38;5;28mbytearray\u001b[39m)):\n\u001b[0;32m--> 906\u001b[0m     \u001b[38;5;28;01mraise\u001b[39;00m \u001b[38;5;167;01mTypeError\u001b[39;00m(\u001b[38;5;124m\"\u001b[39m\u001b[38;5;124mquote_from_bytes() expected bytes\u001b[39m\u001b[38;5;124m\"\u001b[39m)\n\u001b[1;32m    907\u001b[0m \u001b[38;5;28;01mif\u001b[39;00m \u001b[38;5;129;01mnot\u001b[39;00m bs:\n\u001b[1;32m    908\u001b[0m     \u001b[38;5;28;01mreturn\u001b[39;00m \u001b[38;5;124m'\u001b[39m\u001b[38;5;124m'\u001b[39m\n",
      "\u001b[0;31mTypeError\u001b[0m: quote_from_bytes() expected bytes"
     ]
    }
   ],
   "source": [
    "from breeze_connect import BreezeConnect\n",
    "import os\n",
    "# !source ~/.zprofile\n",
    "# !echi\n",
    "# Initialize SDK\n",
    "breeze = BreezeConnect(api_key=\"your_api_key\")\n",
    "\n",
    "# Obtain your session key from https://api.icicidirect.com/apiuser/login?api_key=YOUR_API_KEY\n",
    "# Incase your api-key has special characters(like +,=,!) then encode the api key before using in the url as shown below.\n",
    "import urllib\n",
    "print(os.environ)\n",
    "print(os.environ.get(\"ICICDIR_SECRET\"))\n",
    "print(\"https://api.icicidirect.com/apiuser/login?api_key=\"+urllib.parse.quote_plus(os.environ.get(\"ICICDIR_APIKEY\")))\n",
    "# Generate Session\n",
    "breeze.generate_session(api_secret=os.environ.get(\"ICICDIR_SECRET\"),\n",
    "                        session_token=\"your_api_session\")\n",
    "\n",
    "# Connect to websocket(it will connect to tick-by-tick data server)\n",
    "breeze.ws_connect()\n",
    "\n",
    "# Callback to receive ticks.\n",
    "def on_ticks(ticks):\n",
    "    print(\"Ticks: {}\".format(ticks))\n",
    "\n",
    "# Assign the callbacks.\n",
    "breeze.on_ticks = on_ticks\n",
    "\n",
    "# subscribe stocks feeds\n",
    "breeze.subscribe_feeds(exchange_code=\"NFO\", stock_code=\"ZEEENT\", product_type=\"options\", expiry_date=\"31-Mar-2022\", strike_price=\"350\", right=\"Call\", get_exchange_quotes=True, get_market_depth=False)\n",
    "\n",
    "# subscribe stocks feeds by stock-token\n",
    "breeze.subscribe_feeds(stock_token=\"1.1!500780\")\n",
    "\n",
    "# unsubscribe stocks feeds\n",
    "breeze.unsubscribe_feeds(exchange_code=\"NFO\", stock_code=\"ZEEENT\", product_type=\"options\", expiry_date=\"31-Mar-2022\", strike_price=\"350\", right=\"Call\", get_exchange_quotes=True, get_market_depth=False)\n",
    "\n",
    "# unsubscribe stocks feeds by stock-token\n",
    "breeze.unsubscribe_feeds(stock_token=\"1.1!500780\")\n",
    "\n",
    "# subscribe to Real Time Streaming OHLCV Data of stocks\n",
    "breeze.subscribe_feeds(exchange_code=\"NFO\", stock_code=\"ZEEENT\", product_type=\"options\", expiry_date=\"31-Mar-2022\", strike_price=\"350\", right=\"Call\", interval=\"1minute\")\n",
    "\n",
    "# subscribe to Real Time Streaming OHLCV Data of stocks by stock-token\n",
    "breeze.subscribe_feeds(stock_token=\"1.1!500780\",interval=\"1second\")\n",
    "\n",
    "# unsubscribe to Real Time Streaming OHLCV Data of stocks\n",
    "breeze.unsubscribe_feeds(exchange_code=\"NFO\", stock_code=\"ZEEENT\", product_type=\"options\", expiry_date=\"31-Mar-2022\", strike_price=\"350\", right=\"Call\", interval=\"1minute\")\n",
    "\n",
    "# unsubscribe to Real Time Streaming OHLCV Data of stocks by stock-token\n",
    "breeze.unsubscribe_feeds(stock_token=\"1.1!500780\",interval=\"1second\")\n",
    "\n",
    "# subscribe order notification feeds(it will connect to order streaming server)\n",
    "breeze.subscribe_feeds(get_order_notification=True)\n",
    "\n",
    "# unsubscribe order notification feeds(also it will disconnect the order streaming server)\n",
    "breeze.unsubscribe_feeds(get_order_notification=True)\n",
    "\n",
    "# subscribe oneclick strategy stream\n",
    "breeze.subscribe_feeds(stock_token = \"one_click_fno\")\n",
    "\n",
    "# unsubscribe oneclick strategy stream\n",
    "breeze.unsubscribe_feeds(stock_token = \"one_click_fno\")\n",
    "\n",
    "# subscribe oneclick equity strategy stream(i_click_2_gain)\n",
    "breeze.subscribe_feeds(stock_token = \"i_click_2_gain\")\n",
    "\n",
    "# unsubscribe oneclick equity strategy stream(i_click_2_gain)\n",
    "breeze.unsubscribe_feeds(stock_token = \"i_click_2_gain\")\n",
    "\n",
    "\n",
    "# ws_disconnect (it will disconnect from all actively connected servers)\n",
    "breeze.ws_disconnect()\n",
    "\n"
   ]
  },
  {
   "cell_type": "code",
   "execution_count": 14,
   "id": "1eef433a-1f59-4c1d-bc62-c6657ecf00f3",
   "metadata": {},
   "outputs": [
    {
     "name": "stdout",
     "output_type": "stream",
     "text": [
      "\n"
     ]
    }
   ],
   "source": [
    "! source ~/.zshrc\n",
    "! echo $ICICIDIR_SECRET"
   ]
  }
 ],
 "metadata": {
  "kernelspec": {
   "display_name": "Python 3 (ipykernel)",
   "language": "python",
   "name": "python3"
  },
  "language_info": {
   "codemirror_mode": {
    "name": "ipython",
    "version": 3
   },
   "file_extension": ".py",
   "mimetype": "text/x-python",
   "name": "python",
   "nbconvert_exporter": "python",
   "pygments_lexer": "ipython3",
   "version": "3.10.13"
  }
 },
 "nbformat": 4,
 "nbformat_minor": 5
}
